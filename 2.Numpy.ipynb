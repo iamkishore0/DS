{
  "nbformat": 4,
  "nbformat_minor": 0,
  "metadata": {
    "colab": {
      "provenance": [],
      "include_colab_link": true
    },
    "kernelspec": {
      "name": "python3",
      "display_name": "Python 3"
    }
  },
  "cells": [
    {
      "cell_type": "markdown",
      "metadata": {
        "id": "view-in-github",
        "colab_type": "text"
      },
      "source": [
        "<a href=\"https://colab.research.google.com/github/iamkishore0/DS/blob/main/Numpy.ipynb\" target=\"_parent\"><img src=\"https://colab.research.google.com/assets/colab-badge.svg\" alt=\"Open In Colab\"/></a>"
      ]
    },
    {
      "cell_type": "markdown",
      "metadata": {
        "id": "Ycr86dWCudj3"
      },
      "source": [
        "# **Numpy Basics**"
      ]
    },
    {
      "cell_type": "code",
      "metadata": {
        "id": "nW_FZxrcukoh"
      },
      "source": [
        "#Import Numpy Library\n",
        "import numpy as np"
      ],
      "execution_count": 1,
      "outputs": []
    },
    {
      "cell_type": "code",
      "metadata": {
        "id": "OCYiMs0Du1eD"
      },
      "source": [
        "#Create 1 dimentional array with shape of 3\n",
        "a = np.array([1,2,3])"
      ],
      "execution_count": 2,
      "outputs": []
    },
    {
      "cell_type": "code",
      "metadata": {
        "id": "qekDoy0su4Ap",
        "outputId": "e568900a-1739-44ce-ccb1-76f834f704f3",
        "colab": {
          "base_uri": "https://localhost:8080/"
        }
      },
      "source": [
        "print(a)\n",
        "print(a.shape)\n",
        "print(type(a))"
      ],
      "execution_count": 3,
      "outputs": [
        {
          "output_type": "stream",
          "name": "stdout",
          "text": [
            "[1 2 3]\n",
            "(3,)\n",
            "<class 'numpy.ndarray'>\n"
          ]
        }
      ]
    },
    {
      "cell_type": "code",
      "source": [
        "#Create 1 dimentional array with shape of 3\n",
        "b = np.array([1,2,3,4])"
      ],
      "metadata": {
        "id": "VNQ2oMN9snZ5"
      },
      "execution_count": 4,
      "outputs": []
    },
    {
      "cell_type": "code",
      "source": [
        "print(b)\n",
        "print(b.shape)\n",
        "print(type(b))"
      ],
      "metadata": {
        "id": "XltfSMAesvt-",
        "outputId": "32948373-c600-4052-fcd0-be3540c36291",
        "colab": {
          "base_uri": "https://localhost:8080/"
        }
      },
      "execution_count": 5,
      "outputs": [
        {
          "output_type": "stream",
          "name": "stdout",
          "text": [
            "[1 2 3 4]\n",
            "(4,)\n",
            "<class 'numpy.ndarray'>\n"
          ]
        }
      ]
    },
    {
      "cell_type": "code",
      "metadata": {
        "id": "U-shNsFfvAED"
      },
      "source": [
        "#Array with decimals\n",
        "c = np.array([1.1,2.2,3.3])"
      ],
      "execution_count": 6,
      "outputs": []
    },
    {
      "cell_type": "code",
      "metadata": {
        "id": "jItiKg5mvCa0",
        "outputId": "d3ec2baf-1ba6-48df-eff8-fc2bdd74d4ae",
        "colab": {
          "base_uri": "https://localhost:8080/"
        }
      },
      "source": [
        "print(c)       \n",
        "print(c.shape) \n",
        "print(type(c))"
      ],
      "execution_count": 7,
      "outputs": [
        {
          "output_type": "stream",
          "name": "stdout",
          "text": [
            "[1.1 2.2 3.3]\n",
            "(3,)\n",
            "<class 'numpy.ndarray'>\n"
          ]
        }
      ]
    },
    {
      "cell_type": "code",
      "metadata": {
        "id": "1qLT4irJvFVu",
        "outputId": "b42cb3d4-9fef-4ea4-d6b3-d424e4bc21dd",
        "colab": {
          "base_uri": "https://localhost:8080/"
        }
      },
      "source": [
        "#Access elements and data types\n",
        "print(a[0])       \n",
        "print(b[2])\n",
        "print(c[1])       \n",
        "print(type(a[2])) \n",
        "print(type(b[1]))\n",
        "print(type(c[2]))"
      ],
      "execution_count": 8,
      "outputs": [
        {
          "output_type": "stream",
          "name": "stdout",
          "text": [
            "1\n",
            "3\n",
            "2.2\n",
            "<class 'numpy.int64'>\n",
            "<class 'numpy.int64'>\n",
            "<class 'numpy.float64'>\n"
          ]
        }
      ]
    },
    {
      "cell_type": "code",
      "metadata": {
        "id": "lhzNSwJXvKF2"
      },
      "source": [
        "#Create two dimentional array with shape 2\n",
        "d = np.array([[1,2],[3,4]])"
      ],
      "execution_count": 9,
      "outputs": []
    },
    {
      "cell_type": "code",
      "metadata": {
        "id": "4jiCEtu7vNqD",
        "outputId": "e2ea0bb5-e2db-4878-906f-121de5d2685a",
        "colab": {
          "base_uri": "https://localhost:8080/"
        }
      },
      "source": [
        "print(d)\n",
        "print(d.shape)"
      ],
      "execution_count": 10,
      "outputs": [
        {
          "output_type": "stream",
          "name": "stdout",
          "text": [
            "[[1 2]\n",
            " [3 4]]\n",
            "(2, 2)\n"
          ]
        }
      ]
    },
    {
      "cell_type": "code",
      "source": [
        "#Create three dimentional array with shape 2\n",
        "e = np.array([[1,2],[3,4],[4,5]])"
      ],
      "metadata": {
        "id": "Y8PeQxfguFgJ"
      },
      "execution_count": 11,
      "outputs": []
    },
    {
      "cell_type": "code",
      "source": [
        "print(e)\n",
        "print(e.shape)"
      ],
      "metadata": {
        "id": "cDpK8FtDuX5_",
        "outputId": "1c33aadf-ef4b-4bdc-ea88-d1b4e7ff0f41",
        "colab": {
          "base_uri": "https://localhost:8080/"
        }
      },
      "execution_count": 12,
      "outputs": [
        {
          "output_type": "stream",
          "name": "stdout",
          "text": [
            "[[1 2]\n",
            " [3 4]\n",
            " [4 5]]\n",
            "(3, 2)\n"
          ]
        }
      ]
    },
    {
      "cell_type": "markdown",
      "metadata": {
        "id": "dwKEHCSavSlZ"
      },
      "source": [
        "# **Ones and Zeros**"
      ]
    },
    {
      "cell_type": "code",
      "metadata": {
        "id": "7jscasnAvYNS"
      },
      "source": [
        "#Create a 2*2 array - filled with ones\n",
        "f = np.ones((2,2))"
      ],
      "execution_count": 13,
      "outputs": []
    },
    {
      "cell_type": "code",
      "metadata": {
        "id": "ltwgMyS4yQSX",
        "outputId": "e786fe41-a002-4d82-af4a-aac93f582212",
        "colab": {
          "base_uri": "https://localhost:8080/"
        }
      },
      "source": [
        "print(f)            \n",
        "print(f.shape)       \n",
        "print(type(f))       \n",
        "print(type(f[0][0]))"
      ],
      "execution_count": 14,
      "outputs": [
        {
          "output_type": "stream",
          "name": "stdout",
          "text": [
            "[[1. 1.]\n",
            " [1. 1.]]\n",
            "(2, 2)\n",
            "<class 'numpy.ndarray'>\n",
            "<class 'numpy.float64'>\n"
          ]
        }
      ]
    },
    {
      "cell_type": "code",
      "metadata": {
        "id": "nHWHo9GtyUur"
      },
      "source": [
        "##Create a 3*3 array - filled with zeros\n",
        "g = np.zeros((3,3))"
      ],
      "execution_count": 15,
      "outputs": []
    },
    {
      "cell_type": "code",
      "metadata": {
        "id": "GeTGXptjyWgE",
        "outputId": "adfc296d-04f6-4616-97b5-5a68bc467574",
        "colab": {
          "base_uri": "https://localhost:8080/"
        }
      },
      "source": [
        "print(g)             \n",
        "print(g.shape)       \n",
        "print(type(g))       \n",
        "print(type(g[0][0]))"
      ],
      "execution_count": 16,
      "outputs": [
        {
          "output_type": "stream",
          "name": "stdout",
          "text": [
            "[[0. 0. 0.]\n",
            " [0. 0. 0.]\n",
            " [0. 0. 0.]]\n",
            "(3, 3)\n",
            "<class 'numpy.ndarray'>\n",
            "<class 'numpy.float64'>\n"
          ]
        }
      ]
    },
    {
      "cell_type": "code",
      "metadata": {
        "id": "e0uZhS6CycWP"
      },
      "source": [
        "#Create 2*2 array filled with random numbers\n",
        "h = np.random.random((2,2))"
      ],
      "execution_count": 17,
      "outputs": []
    },
    {
      "cell_type": "code",
      "metadata": {
        "id": "4QJG_MdYyeNV",
        "outputId": "67a4b628-709c-44d6-e924-0e9a69f92842",
        "colab": {
          "base_uri": "https://localhost:8080/"
        }
      },
      "source": [
        "print(h)        \n",
        "print(h.shape)"
      ],
      "execution_count": 18,
      "outputs": [
        {
          "output_type": "stream",
          "name": "stdout",
          "text": [
            "[[0.47099193 0.12552517]\n",
            " [0.01467698 0.53690978]]\n",
            "(2, 2)\n"
          ]
        }
      ]
    },
    {
      "cell_type": "code",
      "source": [
        "#Create 6*6 array filled with random numbers\n",
        "i = np.random.random((6,6))"
      ],
      "metadata": {
        "id": "unXUpI-DvKT5"
      },
      "execution_count": 19,
      "outputs": []
    },
    {
      "cell_type": "code",
      "source": [
        "print(i)        \n",
        "print(i.shape)"
      ],
      "metadata": {
        "id": "Pf2w-AROvrxe",
        "outputId": "2c5fe41a-3a75-4a23-c28d-77f9e928861d",
        "colab": {
          "base_uri": "https://localhost:8080/"
        }
      },
      "execution_count": 20,
      "outputs": [
        {
          "output_type": "stream",
          "name": "stdout",
          "text": [
            "[[0.24782558 0.38051431 0.43143649 0.98889659 0.73104748 0.44333712]\n",
            " [0.62567819 0.94503686 0.75906925 0.72463693 0.99042464 0.52315627]\n",
            " [0.2605941  0.89177038 0.06849802 0.43883378 0.18641824 0.63993245]\n",
            " [0.70473543 0.01607871 0.00525221 0.15149726 0.29519526 0.63028694]\n",
            " [0.52319359 0.75702647 0.49199196 0.96685372 0.29486046 0.87139638]\n",
            " [0.96445936 0.68938701 0.40658551 0.98696046 0.81870835 0.56504313]]\n",
            "(6, 6)\n"
          ]
        }
      ]
    },
    {
      "cell_type": "markdown",
      "metadata": {
        "id": "Te8FeRT6yld3"
      },
      "source": [
        "# **Array Math**"
      ]
    },
    {
      "cell_type": "code",
      "metadata": {
        "id": "-nHRSbz9yo8N",
        "outputId": "1e7f38c3-38fe-4be0-c7ea-50835f6f414a",
        "colab": {
          "base_uri": "https://localhost:8080/"
        }
      },
      "source": [
        "add = a + c\n",
        "print (\"addition\")\n",
        "print(add)\n",
        "print(np.add(a,c))"
      ],
      "execution_count": 21,
      "outputs": [
        {
          "output_type": "stream",
          "name": "stdout",
          "text": [
            "addition\n",
            "[2.1 4.2 6.3]\n",
            "[2.1 4.2 6.3]\n"
          ]
        }
      ]
    },
    {
      "cell_type": "code",
      "metadata": {
        "id": "dsWZXvDTys_1",
        "outputId": "531b14f0-ac13-4ec9-8ffd-161d0c8f0259",
        "colab": {
          "base_uri": "https://localhost:8080/"
        }
      },
      "source": [
        "sub = a - c\n",
        "print (\"subtraction\")\n",
        "print(sub)               \n",
        "print(np.subtract(a,c)) "
      ],
      "execution_count": 22,
      "outputs": [
        {
          "output_type": "stream",
          "name": "stdout",
          "text": [
            "subtraction\n",
            "[-0.1 -0.2 -0.3]\n",
            "[-0.1 -0.2 -0.3]\n"
          ]
        }
      ]
    },
    {
      "cell_type": "code",
      "metadata": {
        "id": "pFUEV7a2yw0T",
        "outputId": "b6a09ea0-cc08-4308-c827-b936fa74cf6e",
        "colab": {
          "base_uri": "https://localhost:8080/"
        }
      },
      "source": [
        "mul = a * c\n",
        "print (\"multiplication\")\n",
        "print(mul)                \n",
        "print(np.multiply(a,c)) "
      ],
      "execution_count": 23,
      "outputs": [
        {
          "output_type": "stream",
          "name": "stdout",
          "text": [
            "multiplication\n",
            "[1.1 4.4 9.9]\n",
            "[1.1 4.4 9.9]\n"
          ]
        }
      ]
    },
    {
      "cell_type": "code",
      "metadata": {
        "id": "vE5j2sjEyy8B",
        "outputId": "57ab2569-c7c4-491e-af22-69d2bb45526b",
        "colab": {
          "base_uri": "https://localhost:8080/"
        }
      },
      "source": [
        "div = a / c\n",
        "print (\"division\")\n",
        "print(div) \n",
        "print(np.divide(a,c))   "
      ],
      "execution_count": 24,
      "outputs": [
        {
          "output_type": "stream",
          "name": "stdout",
          "text": [
            "division\n",
            "[0.90909091 0.90909091 0.90909091]\n",
            "[0.90909091 0.90909091 0.90909091]\n"
          ]
        }
      ]
    },
    {
      "cell_type": "markdown",
      "metadata": {
        "id": "BzlvLyBky3-1"
      },
      "source": [
        "# **Array Concat**"
      ]
    },
    {
      "cell_type": "code",
      "metadata": {
        "id": "po9cIEk-y527"
      },
      "source": [
        "abc = np.array([1,2,3])\n",
        "xyz = np.array([4,5,6])"
      ],
      "execution_count": 25,
      "outputs": []
    },
    {
      "cell_type": "code",
      "metadata": {
        "id": "u8yRMm7Ly8bn",
        "outputId": "5a7436f9-963b-4263-f617-25dcdf45ac9a",
        "colab": {
          "base_uri": "https://localhost:8080/"
        }
      },
      "source": [
        "print(abc.shape)\n",
        "print(xyz.shape)  "
      ],
      "execution_count": 26,
      "outputs": [
        {
          "output_type": "stream",
          "name": "stdout",
          "text": [
            "(3,)\n",
            "(3,)\n"
          ]
        }
      ]
    },
    {
      "cell_type": "code",
      "metadata": {
        "id": "ckvbeFYNzAJH"
      },
      "source": [
        "concat = np.concatenate((abc, xyz))  "
      ],
      "execution_count": 27,
      "outputs": []
    },
    {
      "cell_type": "code",
      "metadata": {
        "id": "cD3rJnHXzCBu",
        "outputId": "028685e4-1fd7-445b-b3d1-1f19fcc19655",
        "colab": {
          "base_uri": "https://localhost:8080/"
        }
      },
      "source": [
        "print(concat)      \n",
        "print(concat.shape) "
      ],
      "execution_count": 28,
      "outputs": [
        {
          "output_type": "stream",
          "name": "stdout",
          "text": [
            "[1 2 3 4 5 6]\n",
            "(6,)\n"
          ]
        }
      ]
    },
    {
      "cell_type": "code",
      "metadata": {
        "id": "FTNd-JOlzExO"
      },
      "source": [
        "deg = np.array([[1,2,3],[4,5,6]])\n",
        "uvw = np.array([[40,40,40],[50,50,50]])"
      ],
      "execution_count": 29,
      "outputs": []
    },
    {
      "cell_type": "code",
      "metadata": {
        "id": "bzPgJ1x4zGDK",
        "outputId": "f97cbcc3-d69a-4f6d-9397-8f6b3e11c56b",
        "colab": {
          "base_uri": "https://localhost:8080/"
        }
      },
      "source": [
        "print(deg.shape)     \n",
        "print(uvw.shape) "
      ],
      "execution_count": 30,
      "outputs": [
        {
          "output_type": "stream",
          "name": "stdout",
          "text": [
            "(2, 3)\n",
            "(2, 3)\n"
          ]
        }
      ]
    },
    {
      "cell_type": "code",
      "metadata": {
        "id": "lJUE3_cHzKXT"
      },
      "source": [
        "concat_a = np.concatenate((deg, uvw), axis=0)\n",
        "concat_b = np.concatenate((deg, uvw), axis=1)\n"
      ],
      "execution_count": 31,
      "outputs": []
    },
    {
      "cell_type": "code",
      "source": [
        "print(concat_a)\n",
        "print(concat_a.shape)"
      ],
      "metadata": {
        "id": "mpMhqyPvyEDz",
        "outputId": "bbc2a8ad-c3f3-4802-a2da-bded3551c17d",
        "colab": {
          "base_uri": "https://localhost:8080/"
        }
      },
      "execution_count": 32,
      "outputs": [
        {
          "output_type": "stream",
          "name": "stdout",
          "text": [
            "[[ 1  2  3]\n",
            " [ 4  5  6]\n",
            " [40 40 40]\n",
            " [50 50 50]]\n",
            "(4, 3)\n"
          ]
        }
      ]
    },
    {
      "cell_type": "code",
      "source": [
        "print(concat_b)\n",
        "print(concat_b.shape)"
      ],
      "metadata": {
        "colab": {
          "base_uri": "https://localhost:8080/"
        },
        "id": "OJi_KgJYY-yB",
        "outputId": "91d3bb5a-026e-4bda-8175-dd411671d152"
      },
      "execution_count": 33,
      "outputs": [
        {
          "output_type": "stream",
          "name": "stdout",
          "text": [
            "[[ 1  2  3 40 40 40]\n",
            " [ 4  5  6 50 50 50]]\n",
            "(2, 6)\n"
          ]
        }
      ]
    },
    {
      "cell_type": "code",
      "metadata": {
        "id": "Z7aIUMY9zP-f"
      },
      "source": [
        "v_stack  = np.vstack((deg,uvw))\n",
        "h_stack  = np.hstack((deg,uvw))"
      ],
      "execution_count": 34,
      "outputs": []
    },
    {
      "cell_type": "code",
      "metadata": {
        "id": "04GbKXVZy3qa",
        "colab": {
          "base_uri": "https://localhost:8080/"
        },
        "outputId": "751d11ef-5efe-4eb3-aec4-067315803630"
      },
      "source": [
        "print(concat_a) \n",
        "print(v_stack) \n",
        "print(concat_a.shape)"
      ],
      "execution_count": 36,
      "outputs": [
        {
          "output_type": "stream",
          "name": "stdout",
          "text": [
            "[[ 1  2  3]\n",
            " [ 4  5  6]\n",
            " [40 40 40]\n",
            " [50 50 50]]\n",
            "[[ 1  2  3]\n",
            " [ 4  5  6]\n",
            " [40 40 40]\n",
            " [50 50 50]]\n",
            "(4, 3)\n"
          ]
        }
      ]
    },
    {
      "cell_type": "code",
      "metadata": {
        "id": "9R4_oJIRuZVr",
        "colab": {
          "base_uri": "https://localhost:8080/"
        },
        "outputId": "9f1968ec-2e01-47ce-8d73-f50ae8917c2d"
      },
      "source": [
        "print(concat_b)        \n",
        "print(h_stack)         \n",
        "print(concat_b.shape)"
      ],
      "execution_count": 37,
      "outputs": [
        {
          "output_type": "stream",
          "name": "stdout",
          "text": [
            "[[ 1  2  3 40 40 40]\n",
            " [ 4  5  6 50 50 50]]\n",
            "[[ 1  2  3 40 40 40]\n",
            " [ 4  5  6 50 50 50]]\n",
            "(2, 6)\n"
          ]
        }
      ]
    },
    {
      "cell_type": "markdown",
      "metadata": {
        "id": "qkkbqQkgzhEP"
      },
      "source": [
        "# **Array Reshape**"
      ]
    },
    {
      "cell_type": "code",
      "metadata": {
        "id": "A6XutZEPzjP1"
      },
      "source": [
        "a = np.array([[1,1,1],[2,2,2]])"
      ],
      "execution_count": 38,
      "outputs": []
    },
    {
      "cell_type": "code",
      "metadata": {
        "id": "76ns8Xr-zliJ",
        "colab": {
          "base_uri": "https://localhost:8080/"
        },
        "outputId": "61336eb3-4f8c-4cd3-ceda-d1543285d1c5"
      },
      "source": [
        "print(a)\n",
        "print(a.shape)"
      ],
      "execution_count": 39,
      "outputs": [
        {
          "output_type": "stream",
          "name": "stdout",
          "text": [
            "[[1 1 1]\n",
            " [2 2 2]]\n",
            "(2, 3)\n"
          ]
        }
      ]
    },
    {
      "cell_type": "code",
      "metadata": {
        "id": "EMphg2aQzpl5"
      },
      "source": [
        "b = np.reshape(a, 6)"
      ],
      "execution_count": 40,
      "outputs": []
    },
    {
      "cell_type": "code",
      "metadata": {
        "id": "IePg0Z8tzxkq",
        "colab": {
          "base_uri": "https://localhost:8080/"
        },
        "outputId": "8457985d-4253-41f0-a157-b543c9e7e2ab"
      },
      "source": [
        "print(b)\n",
        "print(b.shape)"
      ],
      "execution_count": 41,
      "outputs": [
        {
          "output_type": "stream",
          "name": "stdout",
          "text": [
            "[1 1 1 2 2 2]\n",
            "(6,)\n"
          ]
        }
      ]
    },
    {
      "cell_type": "code",
      "metadata": {
        "id": "uL7N0cBQz0ZM"
      },
      "source": [
        "c = np.reshape(b, (3,2))"
      ],
      "execution_count": 42,
      "outputs": []
    },
    {
      "cell_type": "code",
      "metadata": {
        "id": "PLJKJYSRz16Z",
        "colab": {
          "base_uri": "https://localhost:8080/"
        },
        "outputId": "faa2dc5e-bd68-4006-d9cb-c88c337b193a"
      },
      "source": [
        "print(c)              \n",
        "print(c.shape) "
      ],
      "execution_count": 43,
      "outputs": [
        {
          "output_type": "stream",
          "name": "stdout",
          "text": [
            "[[1 1]\n",
            " [1 2]\n",
            " [2 2]]\n",
            "(3, 2)\n"
          ]
        }
      ]
    },
    {
      "cell_type": "code",
      "metadata": {
        "id": "LwsE4h_iz-mR"
      },
      "source": [
        "c = np.array([[1,2,3],[4,5,6],[7,8,9]])"
      ],
      "execution_count": 44,
      "outputs": []
    },
    {
      "cell_type": "code",
      "metadata": {
        "id": "ZlW2YGtV0Akf",
        "colab": {
          "base_uri": "https://localhost:8080/"
        },
        "outputId": "43a80e62-1531-407d-d4b5-c1e2a67c2ad1"
      },
      "source": [
        "print(c)        \n",
        "print(c.shape) "
      ],
      "execution_count": 45,
      "outputs": [
        {
          "output_type": "stream",
          "name": "stdout",
          "text": [
            "[[1 2 3]\n",
            " [4 5 6]\n",
            " [7 8 9]]\n",
            "(3, 3)\n"
          ]
        }
      ]
    },
    {
      "cell_type": "code",
      "metadata": {
        "id": "qyTN3oyZ0Deu"
      },
      "source": [
        "d = np.ravel(c)\n",
        "e = c.flatten()"
      ],
      "execution_count": 46,
      "outputs": []
    },
    {
      "cell_type": "code",
      "metadata": {
        "id": "dmF5DmoY0Gas",
        "colab": {
          "base_uri": "https://localhost:8080/"
        },
        "outputId": "58f9eb1f-444a-480c-df5a-ee63862a23e8"
      },
      "source": [
        "print(d) \n",
        "print(e)    "
      ],
      "execution_count": 47,
      "outputs": [
        {
          "output_type": "stream",
          "name": "stdout",
          "text": [
            "[1 2 3 4 5 6 7 8 9]\n",
            "[1 2 3 4 5 6 7 8 9]\n"
          ]
        }
      ]
    },
    {
      "cell_type": "markdown",
      "metadata": {
        "id": "v2xE0Nfe0bkE"
      },
      "source": [
        "# **Expand Dimensions**"
      ]
    },
    {
      "cell_type": "code",
      "metadata": {
        "id": "RvX6gO8J0dwE"
      },
      "source": [
        "a = np.array([500,200,100])"
      ],
      "execution_count": 49,
      "outputs": []
    },
    {
      "cell_type": "code",
      "metadata": {
        "id": "jpT977oT0h1h",
        "colab": {
          "base_uri": "https://localhost:8080/"
        },
        "outputId": "e11eb4cc-4eae-444f-a0fa-7628bcf4ab0e"
      },
      "source": [
        "# insert a new axis along the row\n",
        "b = np.expand_dims(a, axis=0)  \n",
        "\n",
        "# insert a new axis along the column\n",
        "c = np.expand_dims(a, axis=1)\n",
        "\n",
        "print(b)            \n",
        "print(b.shape)     \n",
        "\n",
        "print(c)           \n",
        "print(c.shape) "
      ],
      "execution_count": 50,
      "outputs": [
        {
          "output_type": "stream",
          "name": "stdout",
          "text": [
            "[[500 200 100]]\n",
            "(1, 3)\n",
            "[[500]\n",
            " [200]\n",
            " [100]]\n",
            "(3, 1)\n"
          ]
        }
      ]
    },
    {
      "cell_type": "markdown",
      "source": [
        "# Transpose"
      ],
      "metadata": {
        "id": "1y54WKIdI0jk"
      }
    },
    {
      "cell_type": "code",
      "source": [
        "x = np.array([[1, 2], [3, 4]])\n",
        "print (x)\n",
        "#getting the transpose\n",
        "print (x.T)"
      ],
      "metadata": {
        "id": "MZgi5IpCIrlm",
        "colab": {
          "base_uri": "https://localhost:8080/"
        },
        "outputId": "bd9a623a-8608-4770-cbc1-fb7f3f3feb7a"
      },
      "execution_count": 51,
      "outputs": [
        {
          "output_type": "stream",
          "name": "stdout",
          "text": [
            "[[1 2]\n",
            " [3 4]]\n",
            "[[1 3]\n",
            " [2 4]]\n"
          ]
        }
      ]
    },
    {
      "cell_type": "markdown",
      "metadata": {
        "id": "koHPfefK0u2z"
      },
      "source": [
        "# **Unique**"
      ]
    },
    {
      "cell_type": "code",
      "metadata": {
        "id": "4Yd-1FiU0phr",
        "colab": {
          "base_uri": "https://localhost:8080/"
        },
        "outputId": "6b2f40f9-e384-4aa7-83ca-fba99ea04700"
      },
      "source": [
        "m = np.array([1,2,1,1,4])\n",
        "\n",
        "# get the unique elements and thier indexes\n",
        "n, indices = np.unique(m, return_index=True)\n",
        "\n",
        "print(n)        \n",
        "print(indices)"
      ],
      "execution_count": 52,
      "outputs": [
        {
          "output_type": "stream",
          "name": "stdout",
          "text": [
            "[1 2 4]\n",
            "[0 1 4]\n"
          ]
        }
      ]
    }
  ]
}
