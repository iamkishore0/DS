{
  "nbformat": 4,
  "nbformat_minor": 0,
  "metadata": {
    "colab": {
      "name": "Conditions_Loops.ipynb",
      "provenance": [],
      "include_colab_link": true
    },
    "kernelspec": {
      "name": "python3",
      "display_name": "Python 3"
    }
  },
  "cells": [
    {
      "cell_type": "markdown",
      "metadata": {
        "id": "view-in-github",
        "colab_type": "text"
      },
      "source": [
        "<a href=\"https://colab.research.google.com/github/iamkishore0/DS/blob/main/Conditions_Loops.ipynb\" target=\"_parent\"><img src=\"https://colab.research.google.com/assets/colab-badge.svg\" alt=\"Open In Colab\"/></a>"
      ]
    },
    {
      "cell_type": "markdown",
      "source": [
        "# Random Library"
      ],
      "metadata": {
        "id": "i_hxfF5KBd0r"
      }
    },
    {
      "cell_type": "code",
      "source": [
        "#import random number as rd\n",
        "import random as rd"
      ],
      "metadata": {
        "id": "l1jaag_hCByH"
      },
      "execution_count": 4,
      "outputs": []
    },
    {
      "cell_type": "code",
      "source": [
        "#select a random int number between 0 and 10\n",
        "rd.randint(0, 10)"
      ],
      "metadata": {
        "id": "3M38HlmQCD15",
        "colab": {
          "base_uri": "https://localhost:8080/"
        },
        "outputId": "fc0dc569-fdc6-4f32-a88e-f59aeddc28ae"
      },
      "execution_count": 5,
      "outputs": [
        {
          "output_type": "execute_result",
          "data": {
            "text/plain": [
              "4"
            ]
          },
          "metadata": {},
          "execution_count": 5
        }
      ]
    },
    {
      "cell_type": "code",
      "source": [
        "#select a random int number between 1 and 99\n",
        "rd.randint(1, 99)"
      ],
      "metadata": {
        "colab": {
          "base_uri": "https://localhost:8080/"
        },
        "id": "yH3BQPMmInMd",
        "outputId": "76e74169-ddbf-4592-aca3-b9d2c57f06da"
      },
      "execution_count": 6,
      "outputs": [
        {
          "output_type": "execute_result",
          "data": {
            "text/plain": [
              "78"
            ]
          },
          "metadata": {},
          "execution_count": 6
        }
      ]
    },
    {
      "cell_type": "code",
      "source": [
        "#selects a random float value less than 100\n",
        "rd.random() * 100"
      ],
      "metadata": {
        "id": "0yysGUx_CFhg",
        "colab": {
          "base_uri": "https://localhost:8080/"
        },
        "outputId": "13d6564a-2cc2-4df7-9bc2-e9283297fe25"
      },
      "execution_count": 11,
      "outputs": [
        {
          "output_type": "execute_result",
          "data": {
            "text/plain": [
              "36.690605043814664"
            ]
          },
          "metadata": {},
          "execution_count": 11
        }
      ]
    },
    {
      "cell_type": "code",
      "source": [
        "#selects a random float value less than 200\n",
        "rd.random() * 200"
      ],
      "metadata": {
        "colab": {
          "base_uri": "https://localhost:8080/"
        },
        "id": "lcofZcBMJNVP",
        "outputId": "5104fe22-2dae-40da-888c-6abc3a3a17a9"
      },
      "execution_count": 14,
      "outputs": [
        {
          "output_type": "execute_result",
          "data": {
            "text/plain": [
              "25.764775824460486"
            ]
          },
          "metadata": {},
          "execution_count": 14
        }
      ]
    },
    {
      "cell_type": "code",
      "source": [
        "#select a random element from given list\n",
        "rd.choice( ['apple', 'banana', 'grapes','pineapple','orange'] )"
      ],
      "metadata": {
        "id": "soIsM_sHCLKI",
        "colab": {
          "base_uri": "https://localhost:8080/",
          "height": 36
        },
        "outputId": "9e1e44a4-99e0-49bf-db89-ab0b17a062eb"
      },
      "execution_count": 19,
      "outputs": [
        {
          "output_type": "execute_result",
          "data": {
            "text/plain": [
              "'orange'"
            ],
            "application/vnd.google.colaboratory.intrinsic+json": {
              "type": "string"
            }
          },
          "metadata": {},
          "execution_count": 19
        }
      ]
    },
    {
      "cell_type": "code",
      "source": [
        "#Looping through random\n",
        "for i in range(4):                  # how many random numbers (range)\n",
        "    print (rd.randrange(0, 101, 5)) # 0 and 101 is choose random number between 0 - 101 & 5 is the step size\n",
        "                                    # distance between each number will be 5 such as 101/5"
      ],
      "metadata": {
        "id": "7thKgxb9BfpT",
        "colab": {
          "base_uri": "https://localhost:8080/"
        },
        "outputId": "07fbf72b-1615-420c-aec3-4dd0c1348a65"
      },
      "execution_count": 22,
      "outputs": [
        {
          "output_type": "stream",
          "name": "stdout",
          "text": [
            "95\n",
            "70\n",
            "0\n",
            "25\n"
          ]
        }
      ]
    },
    {
      "cell_type": "code",
      "source": [
        "for i in range(6):\n",
        "  print(rd.randrange(800,999,10))"
      ],
      "metadata": {
        "colab": {
          "base_uri": "https://localhost:8080/"
        },
        "id": "viKokLpOKrlf",
        "outputId": "9829005c-460b-46e8-c7e1-afbc4c4fdde1"
      },
      "execution_count": 23,
      "outputs": [
        {
          "output_type": "stream",
          "name": "stdout",
          "text": [
            "860\n",
            "960\n",
            "810\n",
            "970\n",
            "910\n",
            "820\n"
          ]
        }
      ]
    },
    {
      "cell_type": "code",
      "source": [
        "#shuffle the numbers\n",
        "from random import shuffle\n",
        "a = [1,2,3,4,5,6,7,8,9]\n",
        "shuffle(a)\n",
        "a"
      ],
      "metadata": {
        "id": "a_Yb1AOECSqy",
        "colab": {
          "base_uri": "https://localhost:8080/"
        },
        "outputId": "fafede0a-6e47-40d7-ff2e-5c323e4ceda8"
      },
      "execution_count": 25,
      "outputs": [
        {
          "output_type": "execute_result",
          "data": {
            "text/plain": [
              "[5, 7, 4, 1, 2, 8, 6, 3, 9]"
            ]
          },
          "metadata": {},
          "execution_count": 25
        }
      ]
    },
    {
      "cell_type": "code",
      "source": [
        "#shuffle the list\n",
        "b = ['apple', 'banana', 'orange']\n",
        "shuffle(b)\n",
        "b"
      ],
      "metadata": {
        "colab": {
          "base_uri": "https://localhost:8080/"
        },
        "id": "C91lQzlSLIcE",
        "outputId": "c2eeccb7-c361-43cf-8ac0-2d4884abe6dc"
      },
      "execution_count": 27,
      "outputs": [
        {
          "output_type": "execute_result",
          "data": {
            "text/plain": [
              "['orange', 'banana', 'apple']"
            ]
          },
          "metadata": {},
          "execution_count": 27
        }
      ]
    },
    {
      "cell_type": "markdown",
      "source": [
        "# OS Library"
      ],
      "metadata": {
        "id": "vq2k7yYpNKms"
      }
    },
    {
      "cell_type": "code",
      "source": [
        "#import os directory\n",
        "import os"
      ],
      "metadata": {
        "id": "gfhbtHU4Noxt"
      },
      "execution_count": 28,
      "outputs": []
    },
    {
      "cell_type": "code",
      "source": [
        "# Get the current working directory\n",
        "current_dir = os.getcwd()\n",
        "print(\"Current Directory:\", current_dir)"
      ],
      "metadata": {
        "colab": {
          "base_uri": "https://localhost:8080/"
        },
        "id": "74tgV9UEOwAf",
        "outputId": "b1c20b9d-430a-4d50-f4c7-9069294ac940"
      },
      "execution_count": 37,
      "outputs": [
        {
          "output_type": "stream",
          "name": "stdout",
          "text": [
            "Current Directory: /content/new_directory\n"
          ]
        }
      ]
    },
    {
      "cell_type": "code",
      "source": [
        "# Create a new directory\n",
        "new_dir = os.path.join(current_dir, 'new_directory')\n",
        "os.mkdir(new_dir)"
      ],
      "metadata": {
        "id": "PIQP-5YgQYPv"
      },
      "execution_count": 33,
      "outputs": []
    },
    {
      "cell_type": "code",
      "source": [
        "# Change the working directory\n",
        "os.chdir(new_dir)"
      ],
      "metadata": {
        "id": "ku9h1RV_Qdnc"
      },
      "execution_count": 34,
      "outputs": []
    },
    {
      "cell_type": "code",
      "source": [
        "# List all files and directories in the current directory\n",
        "items = os.listdir()\n",
        "print(\"Items in current directory:\", items)"
      ],
      "metadata": {
        "colab": {
          "base_uri": "https://localhost:8080/"
        },
        "id": "naNUd9nIQg5U",
        "outputId": "bd0f084f-a12a-4fd5-f04d-1c1afd0ca6b1"
      },
      "execution_count": 35,
      "outputs": [
        {
          "output_type": "stream",
          "name": "stdout",
          "text": [
            "Items in current directory: []\n"
          ]
        }
      ]
    },
    {
      "cell_type": "code",
      "source": [
        "# Check if a path exists\n",
        "path = os.path.join(current_dir, '/content/new_directory')\n",
        "if os.path.exists(path):\n",
        "    print(\"Path exists\")"
      ],
      "metadata": {
        "colab": {
          "base_uri": "https://localhost:8080/"
        },
        "id": "nTv9Y3C1QlqM",
        "outputId": "da2de741-9240-4081-f631-d11063845331"
      },
      "execution_count": 38,
      "outputs": [
        {
          "output_type": "stream",
          "name": "stdout",
          "text": [
            "Path exists\n"
          ]
        }
      ]
    },
    {
      "cell_type": "code",
      "source": [
        "# Remove a directory\n",
        "os.rmdir(new_dir)"
      ],
      "metadata": {
        "id": "ympuV6F_Q2tV"
      },
      "execution_count": 39,
      "outputs": []
    },
    {
      "cell_type": "code",
      "source": [
        "#Create a zero byte file and delete that file\n",
        "\n",
        "# Specify the file path and name\n",
        "file_path = '/content/file.txt'\n",
        "\n",
        "# Create the zero-byte file\n",
        "with open(file_path, 'w') as file:\n",
        "    pass\n",
        "\n",
        "# Check if the file was created\n",
        "if os.path.isfile(file_path):\n",
        "    print(\"Zero-byte file created successfully.\")\n",
        "else:\n",
        "    print(\"Zero-byte file creation failed.\")\n",
        "\n",
        "# Delete the zero-byte file\n",
        "os.remove(file_path)\n",
        "\n",
        "# Check if the file was deleted\n",
        "if not os.path.isfile(file_path):\n",
        "    print(\"Zero-byte file deleted successfully.\")\n",
        "else:\n",
        "    print(\"Zero-byte file deletion failed.\")\n"
      ],
      "metadata": {
        "colab": {
          "base_uri": "https://localhost:8080/"
        },
        "id": "MZlPS0qqV5H9",
        "outputId": "603ced98-a384-4105-e910-cb40d3816155"
      },
      "execution_count": 42,
      "outputs": [
        {
          "output_type": "stream",
          "name": "stdout",
          "text": [
            "Zero-byte file created successfully.\n",
            "Zero-byte file deleted successfully.\n"
          ]
        }
      ]
    },
    {
      "cell_type": "markdown",
      "source": [
        "# TIME Library"
      ],
      "metadata": {
        "id": "EZ9HWdJ9XOcp"
      }
    },
    {
      "cell_type": "code",
      "source": [
        "#import time library\n",
        "import time as tm"
      ],
      "metadata": {
        "id": "X5LAZexWXQs9"
      },
      "execution_count": 45,
      "outputs": []
    },
    {
      "cell_type": "code",
      "source": [
        "# Get the current time in seconds\n",
        "tm.time()"
      ],
      "metadata": {
        "colab": {
          "base_uri": "https://localhost:8080/"
        },
        "id": "6EE15pOMXXtl",
        "outputId": "4c28b724-01d7-47ff-af5f-63994721806c"
      },
      "execution_count": 50,
      "outputs": [
        {
          "output_type": "execute_result",
          "data": {
            "text/plain": [
              "1684640319.5483038"
            ]
          },
          "metadata": {},
          "execution_count": 50
        }
      ]
    },
    {
      "cell_type": "code",
      "source": [
        "# Convert the current time to a readable format\n",
        "current_time = tm.time()\n",
        "readable_time = tm.ctime(current_time)\n",
        "print(\"Current Time (readable):\", readable_time)"
      ],
      "metadata": {
        "colab": {
          "base_uri": "https://localhost:8080/"
        },
        "id": "WGkDTcxiY0J-",
        "outputId": "f49a29f8-d518-4837-e9c6-bae36cf7cd73"
      },
      "execution_count": 52,
      "outputs": [
        {
          "output_type": "stream",
          "name": "stdout",
          "text": [
            "Current Time (readable): Sun May 21 03:39:26 2023\n"
          ]
        }
      ]
    },
    {
      "cell_type": "code",
      "source": [
        "# Get the current time in UTC\n",
        "utc_time = tm.gmtime()\n",
        "print(\"UTC Time:\", utc_time)"
      ],
      "metadata": {
        "colab": {
          "base_uri": "https://localhost:8080/"
        },
        "id": "7W8DAAWYZT7V",
        "outputId": "91b35c33-3760-48a1-cf39-7be2a8478f30"
      },
      "execution_count": 54,
      "outputs": [
        {
          "output_type": "stream",
          "name": "stdout",
          "text": [
            "UTC Time: time.struct_time(tm_year=2023, tm_mon=5, tm_mday=21, tm_hour=3, tm_min=41, tm_sec=26, tm_wday=6, tm_yday=141, tm_isdst=0)\n"
          ]
        }
      ]
    },
    {
      "cell_type": "code",
      "source": [
        "# Get the current time in the local timezone\n",
        "local_time = tm.localtime()\n",
        "print(\"Local Time:\", local_time)"
      ],
      "metadata": {
        "colab": {
          "base_uri": "https://localhost:8080/"
        },
        "id": "K8CReqyWZkll",
        "outputId": "5cd40f34-2e04-4312-bc20-8e59b2a48cd1"
      },
      "execution_count": 55,
      "outputs": [
        {
          "output_type": "stream",
          "name": "stdout",
          "text": [
            "Local Time: time.struct_time(tm_year=2023, tm_mon=5, tm_mday=21, tm_hour=3, tm_min=42, tm_sec=5, tm_wday=6, tm_yday=141, tm_isdst=0)\n"
          ]
        }
      ]
    },
    {
      "cell_type": "code",
      "source": [
        "# Format a time value into a string\n",
        "formatted_time = tm.strftime(\"%Y-%m-%d %H:%M:%S\", local_time)\n",
        "print(\"Formatted Time:\", formatted_time)"
      ],
      "metadata": {
        "colab": {
          "base_uri": "https://localhost:8080/"
        },
        "id": "_1R_HNwfZq0G",
        "outputId": "1cd9adb2-85cf-4b4a-8430-a672dcd4f080"
      },
      "execution_count": 56,
      "outputs": [
        {
          "output_type": "stream",
          "name": "stdout",
          "text": [
            "Formatted Time: 2023-05-21 03:42:05\n"
          ]
        }
      ]
    },
    {
      "cell_type": "code",
      "source": [
        "#sleep for 9 seconds and print the actual sleep time\n",
        "starttime = tm.time()\n",
        "tm.sleep(9)\n",
        "endtime = tm.time()\n",
        "\n",
        "print(starttime-endtime)"
      ],
      "metadata": {
        "colab": {
          "base_uri": "https://localhost:8080/"
        },
        "id": "xu1HzfNqXnMZ",
        "outputId": "390acfdb-08af-49a0-e911-84dfc71dab90"
      },
      "execution_count": 53,
      "outputs": [
        {
          "output_type": "stream",
          "name": "stdout",
          "text": [
            "-9.009433507919312\n"
          ]
        }
      ]
    }
  ]
}